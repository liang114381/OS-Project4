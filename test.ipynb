{
 "cells": [
  {
   "cell_type": "code",
   "execution_count": 1,
   "metadata": {
    "collapsed": true
   },
   "outputs": [],
   "source": [
    "import db_pb2_grpc\n",
    "import db_pb2\n",
    "import grpc\n",
    "import random\n",
    "import json\n",
    "import time\n",
    "import os\n",
    "from utils import *\n",
    "\n",
    "\n",
    "def get_id(id):\n",
    "    return 'Test{:04}'.format(id)\n",
    "\n",
    "\n",
    "def transfer(stub, fromId, toId, value, fee):\n",
    "    trans = db_pb2.Transaction(Type=db_pb2.Transaction.TRANSFER,\n",
    "                               FromID=fromId,\n",
    "                               ToID=toId,\n",
    "                               Value=value,\n",
    "                               MiningFee=fee,\n",
    "                               UUID=generateUUID())\n",
    "    res = stub.Transfer(trans)\n",
    "\n",
    "def get(stub, userId):\n",
    "    req = db_pb2.GetRequest(UserID=userId)\n",
    "    res = stub.Get(req)\n",
    "    return res.Value\n",
    "\n",
    "def verify(stub, trans):\n",
    "    res = stub.Verify(trans)\n",
    "    return res.Result, res.BlockHash[:6]\n",
    "\n",
    "channel = grpc.insecure_channel('127.0.0.1:50051')\n",
    "stub = db_pb2_grpc.BlockChainMinerStub(channel)"
   ]
  },
  {
   "cell_type": "code",
   "execution_count": 17,
   "metadata": {},
   "outputs": [],
   "source": [
    "try:\n",
    "    res = stub.GetHeight(db_pb2.Null(), timeout=1)\n",
    "except grpc.RpcError as e:\n",
    "    ee = e"
   ]
  },
  {
   "cell_type": "code",
   "execution_count": 20,
   "metadata": {},
   "outputs": [],
   "source": [
    "for i in range(100):\n",
    "    transfer(stub, get_id(1), get_id(2), random.randint(1,15), 1)"
   ]
  },
  {
   "cell_type": "code",
   "execution_count": 80,
   "metadata": {},
   "outputs": [
    {
     "name": "stdout",
     "output_type": "stream",
     "text": [
      "1266\n",
      "123\n"
     ]
    }
   ],
   "source": [
    "print(get(stub,get_id(1)))\n",
    "print(get(stub,get_id(2)))"
   ]
  },
  {
   "cell_type": "code",
   "execution_count": 77,
   "metadata": {
    "collapsed": true
   },
   "outputs": [],
   "source": [
    "for i in range(100):\n",
    "    transfer(stub, get_id(2), get_id(3), random.randint(1,15), 1)"
   ]
  },
  {
   "cell_type": "code",
   "execution_count": 25,
   "metadata": {
    "collapsed": true
   },
   "outputs": [],
   "source": []
  },
  {
   "cell_type": "code",
   "execution_count": 66,
   "metadata": {},
   "outputs": [
    {
     "name": "stdout",
     "output_type": "stream",
     "text": [
      "0\n",
      "1\n",
      "2\n",
      "3\n",
      "4\n",
      "5\n",
      "6\n",
      "7\n",
      "8\n",
      "9\n",
      "10\n",
      "11\n",
      "12\n",
      "13\n",
      "14\n",
      "15\n",
      "16\n",
      "17\n",
      "18\n",
      "19\n"
     ]
    }
   ],
   "source": [
    "for i in range(20):\n",
    "    transfer(stub, get_id(3), get_id(1), random.randint(1,15), 1)\n",
    "    print(i)\n",
    "    time.sleep(5)"
   ]
  },
  {
   "cell_type": "code",
   "execution_count": 30,
   "metadata": {},
   "outputs": [],
   "source": [
    "J = '{\"Type\": \"TRANSFER\", \"FromID\": \"Test0001\", \"ToID\": \"Test0002\", \"Value\": 2, \"MiningFee\": 1, \"UUID\": \"f41b09d97fca475db1070bb5d33c86fa\"}'\n",
    "jj = json.loads(J)"
   ]
  },
  {
   "cell_type": "code",
   "execution_count": 76,
   "metadata": {},
   "outputs": [],
   "source": [
    "T = db_pb2.Transaction(**jj)"
   ]
  },
  {
   "cell_type": "code",
   "execution_count": 37,
   "metadata": {},
   "outputs": [
    {
     "data": {
      "text/plain": [
       "Type: TRANSFER\n",
       "FromID: \"Test0001\"\n",
       "ToID: \"Test0002\"\n",
       "Value: 2\n",
       "MiningFee: 1\n",
       "UUID: \"f41b09d97fca475db1070bb5d33c86fa\""
      ]
     },
     "execution_count": 37,
     "metadata": {},
     "output_type": "execute_result"
    }
   ],
   "source": [
    "T"
   ]
  },
  {
   "cell_type": "code",
   "execution_count": 75,
   "metadata": {},
   "outputs": [
    {
     "data": {
      "text/plain": [
       "(0, '')"
      ]
     },
     "execution_count": 75,
     "metadata": {},
     "output_type": "execute_result"
    }
   ],
   "source": [
    "verify(stub, T)"
   ]
  },
  {
   "cell_type": "code",
   "execution_count": 35,
   "metadata": {},
   "outputs": [
    {
     "data": {
      "text/plain": [
       "Type: TRANSFER\n",
       "FromID: \"Test0001\"\n",
       "ToID: \"Test0002\"\n",
       "Value: 2\n",
       "MiningFee: 1\n",
       "UUID: \"f41b09d97fca475db1070bb5d33c86fa\""
      ]
     },
     "execution_count": 35,
     "metadata": {},
     "output_type": "execute_result"
    }
   ],
   "source": [
    "T"
   ]
  },
  {
   "cell_type": "code",
   "execution_count": 68,
   "metadata": {},
   "outputs": [],
   "source": [
    "def calcHash(dir):\n",
    "    for filename in sorted(os.listdir(dir)):\n",
    "        if filename[-4:] == 'json':\n",
    "            with open(os.path.join(dir, filename)) as f:\n",
    "                hash = getHashString(f.read())\n",
    "            print(filename, hash)"
   ]
  },
  {
   "cell_type": "code",
   "execution_count": 69,
   "metadata": {},
   "outputs": [
    {
     "name": "stdout",
     "output_type": "stream",
     "text": [
      "1.json 000004c3c4916b35975bc086df14e11c230bdaaa5d25d56da658eec73b82705f\n",
      "2.json 000000a16d2ab8f0eda558179074ca4dc05e870dbe57cc4ffaad4b3a82c721eb\n",
      "3.json 000007cf4dea729d068078d8802a736c8b243df1c6b261713fc9809011ca379f\n",
      "4.json 00000211b0013ee5136180725252afead1fcc2805bb3984f7449035ba9d05a81\n",
      "5.json 0000043f11a1a5cac7352b3ea93eb29f2cb381af9309b3ffdd0ef7d3b00a472c\n",
      "6.json 00000da0db60308f43feded4fac6eb27814e485e557e9fca9313a9cac0e7201b\n",
      "7.json 00000f82545bab32f873228652d40893ee12e91d2a20563ef871f4d2b9d427d9\n",
      "8.json 0000000d544e9baf7f8bdacefe6fcf23119e5bf35269ae1c0e5795cc7b74294e\n"
     ]
    }
   ],
   "source": [
    "calcHash('server03/')"
   ]
  },
  {
   "cell_type": "code",
   "execution_count": 70,
   "metadata": {},
   "outputs": [
    {
     "name": "stdout",
     "output_type": "stream",
     "text": [
      "1.json 000004c3c4916b35975bc086df14e11c230bdaaa5d25d56da658eec73b82705f\n",
      "2.json 000000a16d2ab8f0eda558179074ca4dc05e870dbe57cc4ffaad4b3a82c721eb\n",
      "3.json 000007cf4dea729d068078d8802a736c8b243df1c6b261713fc9809011ca379f\n",
      "4.json 00000211b0013ee5136180725252afead1fcc2805bb3984f7449035ba9d05a81\n",
      "5.json 0000043f11a1a5cac7352b3ea93eb29f2cb381af9309b3ffdd0ef7d3b00a472c\n",
      "6.json 00000da0db60308f43feded4fac6eb27814e485e557e9fca9313a9cac0e7201b\n",
      "7.json 00000f82545bab32f873228652d40893ee12e91d2a20563ef871f4d2b9d427d9\n",
      "8.json 0000000d544e9baf7f8bdacefe6fcf23119e5bf35269ae1c0e5795cc7b74294e\n"
     ]
    }
   ],
   "source": [
    "calcHash('server02/')"
   ]
  },
  {
   "cell_type": "code",
   "execution_count": 74,
   "metadata": {},
   "outputs": [
    {
     "name": "stdout",
     "output_type": "stream",
     "text": [
      "1.json 000004c3c4916b35975bc086df14e11c230bdaaa5d25d56da658eec73b82705f\n",
      "2.json 000000a16d2ab8f0eda558179074ca4dc05e870dbe57cc4ffaad4b3a82c721eb\n",
      "3.json 000007cf4dea729d068078d8802a736c8b243df1c6b261713fc9809011ca379f\n",
      "4.json 00000211b0013ee5136180725252afead1fcc2805bb3984f7449035ba9d05a81\n",
      "5.json 0000043f11a1a5cac7352b3ea93eb29f2cb381af9309b3ffdd0ef7d3b00a472c\n",
      "6.json 00000da0db60308f43feded4fac6eb27814e485e557e9fca9313a9cac0e7201b\n",
      "7.json 00000f82545bab32f873228652d40893ee12e91d2a20563ef871f4d2b9d427d9\n",
      "8.json 0000000d544e9baf7f8bdacefe6fcf23119e5bf35269ae1c0e5795cc7b74294e\n"
     ]
    }
   ],
   "source": [
    "calcHash('server01/')"
   ]
  },
  {
   "cell_type": "code",
   "execution_count": null,
   "metadata": {
    "collapsed": true
   },
   "outputs": [],
   "source": []
  }
 ],
 "metadata": {
  "kernelspec": {
   "display_name": "Python 3",
   "language": "python",
   "name": "python3"
  },
  "language_info": {
   "codemirror_mode": {
    "name": "ipython",
    "version": 3
   },
   "file_extension": ".py",
   "mimetype": "text/x-python",
   "name": "python",
   "nbconvert_exporter": "python",
   "pygments_lexer": "ipython3",
   "version": "3.6.1"
  }
 },
 "nbformat": 4,
 "nbformat_minor": 2
}
