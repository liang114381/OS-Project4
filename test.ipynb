{
 "cells": [
  {
   "cell_type": "code",
   "execution_count": 1,
   "metadata": {
    "collapsed": true
   },
   "outputs": [],
   "source": [
    "import db_pb2_grpc\n",
    "import db_pb2\n",
    "import grpc\n",
    "import random\n",
    "from utils import *\n",
    "\n",
    "\n",
    "def get_id(id):\n",
    "    return 'Test{:04}'.format(id)\n",
    "\n",
    "\n",
    "def transfer(stub, fromId, toId, value, fee):\n",
    "    trans = db_pb2.Transaction(Type=db_pb2.Transaction.TRANSFER,\n",
    "                               FromID=fromId,\n",
    "                               ToID=toId,\n",
    "                               Value=value,\n",
    "                               MiningFee=fee,\n",
    "                               UUID=generateUUID())\n",
    "    res = stub.Transfer(trans)\n",
    "\n",
    "def get(stub, userId):\n",
    "    req = db_pb2.GetRequest(UserID=userId)\n",
    "    res = stub.Get(req)\n",
    "    return res.Value\n",
    "\n",
    "def verify(stub, trans):\n",
    "    res = stub.Verify(trans)\n",
    "    return res.Result, res.BlockHash[:6]\n",
    "\n",
    "channel = grpc.insecure_channel('127.0.0.1:50051')\n",
    "stub = db_pb2_grpc.BlockChainMinerStub(channel)"
   ]
  },
  {
   "cell_type": "code",
   "execution_count": 17,
   "metadata": {},
   "outputs": [],
   "source": [
    "try:\n",
    "    res = stub.GetHeight(db_pb2.Null(), timeout=1)\n",
    "except grpc.RpcError as e:\n",
    "    ee = e"
   ]
  },
  {
   "cell_type": "code",
   "execution_count": 20,
   "metadata": {},
   "outputs": [],
   "source": [
    "for i in range(100):\n",
    "    transfer(stub, get_id(1), get_id(2), random.randint(1,15), 1)"
   ]
  },
  {
   "cell_type": "code",
   "execution_count": 23,
   "metadata": {},
   "outputs": [
    {
     "name": "stdout",
     "output_type": "stream",
     "text": [
      "579\n",
      "1371\n"
     ]
    }
   ],
   "source": [
    "print(get(stub,get_id(1)))\n",
    "print(get(stub,get_id(2)))"
   ]
  },
  {
   "cell_type": "code",
   "execution_count": 24,
   "metadata": {
    "collapsed": true
   },
   "outputs": [],
   "source": [
    "for i in range(100):\n",
    "    transfer(stub, get_id(2), get_id(3), random.randint(1,15), 1)"
   ]
  },
  {
   "cell_type": "code",
   "execution_count": 25,
   "metadata": {
    "collapsed": true
   },
   "outputs": [],
   "source": [
    "import time"
   ]
  },
  {
   "cell_type": "code",
   "execution_count": null,
   "metadata": {},
   "outputs": [
    {
     "name": "stdout",
     "output_type": "stream",
     "text": [
      "0\n",
      "1\n",
      "2\n",
      "3\n",
      "4\n",
      "5\n",
      "6\n",
      "7\n",
      "8\n",
      "9\n",
      "10\n",
      "11\n",
      "12\n",
      "13\n",
      "14\n",
      "15\n",
      "16\n"
     ]
    }
   ],
   "source": [
    "for i in range(20):\n",
    "    transfer(stub, get_id(3), get_id(1), random.randint(1,15), 1)\n",
    "    print(i)\n",
    "    time.sleep(15)"
   ]
  },
  {
   "cell_type": "code",
   "execution_count": null,
   "metadata": {
    "collapsed": true
   },
   "outputs": [],
   "source": []
  }
 ],
 "metadata": {
  "kernelspec": {
   "display_name": "Python 3",
   "language": "python",
   "name": "python3"
  },
  "language_info": {
   "codemirror_mode": {
    "name": "ipython",
    "version": 3
   },
   "file_extension": ".py",
   "mimetype": "text/x-python",
   "name": "python",
   "nbconvert_exporter": "python",
   "pygments_lexer": "ipython3",
   "version": "3.6.1"
  }
 },
 "nbformat": 4,
 "nbformat_minor": 2
}
